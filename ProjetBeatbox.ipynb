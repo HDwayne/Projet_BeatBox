{
  "cells": [
    {
      "cell_type": "markdown",
      "metadata": {
        "colab_type": "text",
        "id": "view-in-github"
      },
      "source": [
        "<a href=\"https://colab.research.google.com/github/Florian-Dion/TP_IA/blob/main/ProjetBeatbox.ipynb\" target=\"_parent\"><img src=\"https://colab.research.google.com/assets/colab-badge.svg\" alt=\"Open In Colab\"/></a>"
      ]
    },
    {
      "cell_type": "markdown",
      "id": "b70e2d2b",
      "metadata": {
        "id": "b70e2d2b"
      },
      "source": [
        "# Mini-Projet :  Détection de sons de Beatbox\n",
        "\n",
        "## Nom du binôme : HERZBERG Dwayne / DION Florian\n",
        "\n",
        "L'objectif de ce TP consiste à détecter et reconnaître les différents sons de beatbox à partir de fichiers sonores au format *.wav* via l'analyse cepstrale.\n",
        "\n",
        "\n",
        "<img src=\"./Sons_Beatbox.png\" width=\"800\">\n",
        "\n",
        "\n",
        "\n",
        "Vous disposez d'une base d'enregistrements de beatbox. Il faut reconnaître les 12 sons beatbox suivants :\n",
        "\n",
        "$$\\text{'cymbale_expiree', 'cymbale_inspiree', 'hihat_humming', 'hihat_power ferme', 'hihat_power ouvert', 'kick_humming', }$$\n",
        "$$\\text{'kick_power','rimshot_humming', 'rimshot_power', 'snare_humming', 'snare_power', 'snare_power inverse'}$$\n",
        "\n",
        "\n",
        "**Source :** https://pubs.aip.org/asa/jasa/article/149/1/191/610401 \\\n",
        "Paroni, Annalisa, et al. *Vocal drum sounds in human beatboxing: An acoustic and articulatory exploration using electromagnetic articulography.* The Journal of the Acoustical Society of America 149.1 (2021): 191-206.\n"
      ]
    },
    {
      "cell_type": "code",
      "execution_count": 1,
      "id": "ffe069cc",
      "metadata": {
        "id": "ffe069cc"
      },
      "outputs": [],
      "source": [
        "import matplotlib.pyplot as plt\n",
        "import numpy as np\n",
        "import scipy\n",
        "import sklearn\n",
        "import math\n",
        "from sklearn.metrics import accuracy_score\n",
        "from sklearn.metrics import confusion_matrix\n",
        "import seaborn as sns"
      ]
    },
    {
      "cell_type": "markdown",
      "id": "1b467a37",
      "metadata": {
        "id": "1b467a37"
      },
      "source": [
        "# Chargement des données\n",
        "\n",
        "\n",
        "Le fichier source sur lequel vous travaillez est la conversion des enregistrements audio en matrice de paramètres appélés MFCC (Mel Frequency Cepstral Coefficient) en utilisant la librairie python *librosa*. Ces paramètres permettent d'extraire au mieux le contenu vocal fréquenciel du signal audio.\n",
        "\n",
        "La matrice de données est composée d'autant de vecteurs lignes que de fichiers audio. Le nombre de colonnes correspond à la dimension du vecteur moyen représentatif des MFCC : ici 13."
      ]
    },
    {
      "cell_type": "code",
      "execution_count": 2,
      "id": "41c241c0",
      "metadata": {
        "colab": {
          "base_uri": "https://localhost:8080/"
        },
        "id": "41c241c0",
        "outputId": "7a43e5a8-12a1-4c78-9030-146db22a3ff7"
      },
      "outputs": [
        {
          "name": "stdout",
          "output_type": "stream",
          "text": [
            "Dimension de la matrice des MFCC : (341, 13)\n",
            "Dimension des labels (341,)\n"
          ]
        }
      ],
      "source": [
        "# Chargement des données à partir d'un fichier matlab .mat\n",
        "import scipy.io as sio\n",
        "test = sio.loadmat('2016HBXX_effets_mfcc_nodeltas_XY_nozcaPerFile_zcaX.mat')\n",
        "\n",
        "\n",
        "# data = matrice des données : nombre d'enregistrements x 13 coefficients\n",
        "data=test['X']\n",
        "data=np.array(data)\n",
        "data=data.astype('float64')\n",
        "print('Dimension de la matrice des MFCC :',data.shape)\n",
        "\n",
        "# label = Numéro correspondant à un son de beatbox associé à chaque enregistrement\n",
        "label=test['Y']\n",
        "label=np.ravel(label)\n",
        "print('Dimension des labels', label.shape)\n",
        "\n",
        "# liste des sons de beatbox\n",
        "Nomlabel=['cymbale_expiree', 'cymbale_inspiree', 'hihat_humming', 'hihat_power ferme', 'hihat_power ouvert', 'kick_humming','kick_power','rimshot_humming', 'rimshot_power', 'snare_humming', 'snare_power', 'snare_power inverse']\n",
        "\n"
      ]
    },
    {
      "cell_type": "code",
      "execution_count": 3,
      "id": "a5b4459e",
      "metadata": {
        "colab": {
          "base_uri": "https://localhost:8080/"
        },
        "id": "a5b4459e",
        "outputId": "cadf1fcc-e387-4cc8-a4fa-33c7c4c636fb"
      },
      "outputs": [
        {
          "name": "stdout",
          "output_type": "stream",
          "text": [
            "Label 0 correspond à  cymbale_expiree : 28 enregistrements\n",
            "Label 1 correspond à  cymbale_inspiree : 18 enregistrements\n",
            "Label 2 correspond à  hihat_humming : 37 enregistrements\n",
            "Label 3 correspond à  hihat_power ferme : 20 enregistrements\n",
            "Label 4 correspond à  hihat_power ouvert : 24 enregistrements\n",
            "Label 5 correspond à  kick_humming : 37 enregistrements\n",
            "Label 6 correspond à  kick_power : 42 enregistrements\n",
            "Label 7 correspond à  rimshot_humming : 25 enregistrements\n",
            "Label 8 correspond à  rimshot_power : 38 enregistrements\n",
            "Label 9 correspond à  snare_humming : 30 enregistrements\n",
            "Label 10 correspond à  snare_power : 22 enregistrements\n",
            "Label 11 correspond à  snare_power inverse : 20 enregistrements\n"
          ]
        }
      ],
      "source": [
        "# Description du jeu de données\n",
        "unique, counts = np.unique(label, return_counts=True)\n",
        "\n",
        "\n",
        "for i in range(unique.shape[0]):\n",
        "    print('Label',unique[i],'correspond à ',Nomlabel[i],':',counts[i],'enregistrements');"
      ]
    },
    {
      "cell_type": "markdown",
      "id": "946d3f2e",
      "metadata": {
        "id": "946d3f2e"
      },
      "source": [
        "###  Découpage de l'ensemble de données en Apprentissage et test pour les approches supevisée."
      ]
    },
    {
      "cell_type": "code",
      "execution_count": 4,
      "id": "9bffee5e",
      "metadata": {
        "id": "9bffee5e"
      },
      "outputs": [],
      "source": [
        "from sklearn.model_selection import train_test_split\n",
        "\n",
        "X_train, X_test, y_train, y_test = train_test_split(data, label, test_size=0.33, random_state=42)"
      ]
    },
    {
      "cell_type": "markdown",
      "id": "2796c2e1",
      "metadata": {
        "id": "2796c2e1"
      },
      "source": [
        "### Fonctions pour réaliser une table de correspondance entre le label des approches non supervisées et le label réel"
      ]
    },
    {
      "cell_type": "code",
      "execution_count": 5,
      "id": "e554dacd",
      "metadata": {
        "id": "e554dacd"
      },
      "outputs": [],
      "source": [
        "def retrieve_info(cluster_labels,y_train):\n",
        " #Associe l'étiquette la plus probable à chaque groupe dans le modèle KMeans.\n",
        " #Résultats : dictionnaire des clusters associés à chaque étiquette.\n",
        "\n",
        "# Initialisation\n",
        "  reference_labels = np.zeros((len(np.unique(cluster_labels)),1))\n",
        "# Loop pour chaque label\n",
        "  for i in range(len(np.unique(cluster_labels))):\n",
        "    index = np.where(cluster_labels == i,1,0)\n",
        "    num = np.bincount(y_train[index==1]).argmax()\n",
        "    reference_labels[i] = num\n",
        "  return reference_labels\n",
        "\n",
        "def correspondance(y_pred_kmeans,y_train):\n",
        "  # Correspondance entre la partition et les classes de la vérité terrain\n",
        "  reference_labels = retrieve_info(y_pred_kmeans,y_train)\n",
        "  number_labels = np.zeros(len(y_pred_kmeans))\n",
        "  for i in range(len(y_pred_kmeans)):\n",
        "    number_labels[i] = reference_labels[y_pred_kmeans[i]]\n",
        "  return number_labels\n"
      ]
    },
    {
      "cell_type": "markdown",
      "id": "362f4e14",
      "metadata": {
        "id": "362f4e14"
      },
      "source": [
        "# Partie I : Classification des sons beatbox sans prétraitement\n",
        "\n",
        "Réaliser une classification de ces sons de beatbox par une méthode d'apprentissage supervisé et une méthode d'apprentissage non supervisé de votre choix en utilisant soit les codes des TP précédents, soit en utilisant la librairie *scikit-learn*.\n",
        "\n",
        "Pour chaque résultat obtenu, calculer la matrice de confusion et utiliser l'image des signaux présenté ci-dessus pour interpréter les résultats.\n",
        "\n",
        "## Méthode supervisée  :\n",
        "indiquer quelle est la méthode supervisée de votre choix et calculer la matrice de confusion associée (confusion_matrix) et le score de performance (accuracy_score)"
      ]
    },
    {
      "cell_type": "code",
      "execution_count": 6,
      "id": "e8d3a85a",
      "metadata": {
        "id": "e8d3a85a"
      },
      "outputs": [],
      "source": [
        "from sklearn.metrics import euclidean_distances\n",
        "\n",
        "\n",
        "def kppv(X_train, y_train, X_test, k):\n",
        "  # X_train : données d'apprentissage\n",
        "  # y_train : labels d'apprentissage\n",
        "  # X_test : données de test\n",
        "  # k : nombre de voisins\n",
        "\n",
        "  # Calcul des distances entre les données de test et les données d'apprentissage\n",
        "  dist = euclidean_distances(X_test, X_train)\n",
        "\n",
        "  # Tri des indices des distances par ordre croissant\n",
        "  dist_indices = np.argsort(dist)\n",
        "\n",
        "  # Sélection des k plus proches voisins\n",
        "  dist_indices_knn = dist_indices[:, 0:k]\n",
        "\n",
        "  # Calcul des prédictions\n",
        "  y_pred = np.zeros(X_test.shape[0])\n",
        "  for i in range(X_test.shape[0]):\n",
        "    y_pred[i] = np.bincount(y_train[dist_indices_knn[i, :].astype(int)]).argmax()\n",
        "\n",
        "  return y_pred\n",
        "\n",
        "# Calcul des prédictions\n",
        "\n",
        "y_pred_kppv = kppv(X_train, y_train, X_test, 1)\n",
        "\n",
        "# Calcul de la matrice de confusion\n",
        "\n",
        "cm_kppv = confusion_matrix(y_test, y_pred_kppv)\n",
        "\n",
        "# Calcul de l'accuracy\n",
        "\n",
        "accuracy_kppv = accuracy_score(y_test, y_pred_kppv)"
      ]
    },
    {
      "cell_type": "code",
      "execution_count": 8,
      "id": "189ee74b",
      "metadata": {
        "id": "189ee74b"
      },
      "outputs": [
        {
          "ename": "ValueError",
          "evalue": "Format specifier missing precision",
          "output_type": "error",
          "traceback": [
            "\u001b[1;31m---------------------------------------------------------------------------\u001b[0m",
            "\u001b[1;31mValueError\u001b[0m                                Traceback (most recent call last)",
            "\u001b[1;32mc:\\Users\\hdway\\Documents\\licence_info\\CSAA\\TP_IA\\ProjetBeatbox.ipynb Cell 13\u001b[0m line \u001b[0;36m4\n\u001b[0;32m      <a href='vscode-notebook-cell:/c%3A/Users/hdway/Documents/licence_info/CSAA/TP_IA/ProjetBeatbox.ipynb#X15sZmlsZQ%3D%3D?line=0'>1</a>\u001b[0m \u001b[39m# Affichage de la matrice de confusion\u001b[39;00m\n\u001b[0;32m      <a href='vscode-notebook-cell:/c%3A/Users/hdway/Documents/licence_info/CSAA/TP_IA/ProjetBeatbox.ipynb#X15sZmlsZQ%3D%3D?line=2'>3</a>\u001b[0m plt\u001b[39m.\u001b[39mfigure(figsize\u001b[39m=\u001b[39m(\u001b[39m10\u001b[39m, \u001b[39m10\u001b[39m))\n\u001b[1;32m----> <a href='vscode-notebook-cell:/c%3A/Users/hdway/Documents/licence_info/CSAA/TP_IA/ProjetBeatbox.ipynb#X15sZmlsZQ%3D%3D?line=3'>4</a>\u001b[0m sns\u001b[39m.\u001b[39;49mheatmap(cm_kppv, annot\u001b[39m=\u001b[39;49m\u001b[39mTrue\u001b[39;49;00m, fmt\u001b[39m=\u001b[39;49m\u001b[39m\"\u001b[39;49m\u001b[39m.f\u001b[39;49m\u001b[39m\"\u001b[39;49m, linewidths\u001b[39m=\u001b[39;49m\u001b[39m.5\u001b[39;49m, square\u001b[39m=\u001b[39;49m\u001b[39mTrue\u001b[39;49;00m, cmap\u001b[39m=\u001b[39;49m\u001b[39m'\u001b[39;49m\u001b[39mBlues_r\u001b[39;49m\u001b[39m'\u001b[39;49m)\n\u001b[0;32m      <a href='vscode-notebook-cell:/c%3A/Users/hdway/Documents/licence_info/CSAA/TP_IA/ProjetBeatbox.ipynb#X15sZmlsZQ%3D%3D?line=4'>5</a>\u001b[0m plt\u001b[39m.\u001b[39mylabel(\u001b[39m'\u001b[39m\u001b[39mActual label\u001b[39m\u001b[39m'\u001b[39m)\n\u001b[0;32m      <a href='vscode-notebook-cell:/c%3A/Users/hdway/Documents/licence_info/CSAA/TP_IA/ProjetBeatbox.ipynb#X15sZmlsZQ%3D%3D?line=5'>6</a>\u001b[0m plt\u001b[39m.\u001b[39mxlabel(\u001b[39m'\u001b[39m\u001b[39mPredicted label\u001b[39m\u001b[39m'\u001b[39m)\n",
            "File \u001b[1;32mc:\\Users\\hdway\\Documents\\licence_info\\CSAA\\.venv\\lib\\site-packages\\seaborn\\matrix.py:459\u001b[0m, in \u001b[0;36mheatmap\u001b[1;34m(data, vmin, vmax, cmap, center, robust, annot, fmt, annot_kws, linewidths, linecolor, cbar, cbar_kws, cbar_ax, square, xticklabels, yticklabels, mask, ax, **kwargs)\u001b[0m\n\u001b[0;32m    457\u001b[0m \u001b[39mif\u001b[39;00m square:\n\u001b[0;32m    458\u001b[0m     ax\u001b[39m.\u001b[39mset_aspect(\u001b[39m\"\u001b[39m\u001b[39mequal\u001b[39m\u001b[39m\"\u001b[39m)\n\u001b[1;32m--> 459\u001b[0m plotter\u001b[39m.\u001b[39;49mplot(ax, cbar_ax, kwargs)\n\u001b[0;32m    460\u001b[0m \u001b[39mreturn\u001b[39;00m ax\n",
            "File \u001b[1;32mc:\\Users\\hdway\\Documents\\licence_info\\CSAA\\.venv\\lib\\site-packages\\seaborn\\matrix.py:352\u001b[0m, in \u001b[0;36m_HeatMapper.plot\u001b[1;34m(self, ax, cax, kws)\u001b[0m\n\u001b[0;32m    350\u001b[0m \u001b[39m# Annotate the cells with the formatted values\u001b[39;00m\n\u001b[0;32m    351\u001b[0m \u001b[39mif\u001b[39;00m \u001b[39mself\u001b[39m\u001b[39m.\u001b[39mannot:\n\u001b[1;32m--> 352\u001b[0m     \u001b[39mself\u001b[39;49m\u001b[39m.\u001b[39;49m_annotate_heatmap(ax, mesh)\n",
            "File \u001b[1;32mc:\\Users\\hdway\\Documents\\licence_info\\CSAA\\.venv\\lib\\site-packages\\seaborn\\matrix.py:260\u001b[0m, in \u001b[0;36m_HeatMapper._annotate_heatmap\u001b[1;34m(self, ax, mesh)\u001b[0m\n\u001b[0;32m    258\u001b[0m lum \u001b[39m=\u001b[39m relative_luminance(color)\n\u001b[0;32m    259\u001b[0m text_color \u001b[39m=\u001b[39m \u001b[39m\"\u001b[39m\u001b[39m.15\u001b[39m\u001b[39m\"\u001b[39m \u001b[39mif\u001b[39;00m lum \u001b[39m>\u001b[39m \u001b[39m.408\u001b[39m \u001b[39melse\u001b[39;00m \u001b[39m\"\u001b[39m\u001b[39mw\u001b[39m\u001b[39m\"\u001b[39m\n\u001b[1;32m--> 260\u001b[0m annotation \u001b[39m=\u001b[39m (\u001b[39m\"\u001b[39;49m\u001b[39m{\u001b[39;49m\u001b[39m:\u001b[39;49m\u001b[39m\"\u001b[39;49m \u001b[39m+\u001b[39;49m \u001b[39mself\u001b[39;49m\u001b[39m.\u001b[39;49mfmt \u001b[39m+\u001b[39;49m \u001b[39m\"\u001b[39;49m\u001b[39m}\u001b[39;49m\u001b[39m\"\u001b[39;49m)\u001b[39m.\u001b[39;49mformat(val)\n\u001b[0;32m    261\u001b[0m text_kwargs \u001b[39m=\u001b[39m \u001b[39mdict\u001b[39m(color\u001b[39m=\u001b[39mtext_color, ha\u001b[39m=\u001b[39m\u001b[39m\"\u001b[39m\u001b[39mcenter\u001b[39m\u001b[39m\"\u001b[39m, va\u001b[39m=\u001b[39m\u001b[39m\"\u001b[39m\u001b[39mcenter\u001b[39m\u001b[39m\"\u001b[39m)\n\u001b[0;32m    262\u001b[0m text_kwargs\u001b[39m.\u001b[39mupdate(\u001b[39mself\u001b[39m\u001b[39m.\u001b[39mannot_kws)\n",
            "\u001b[1;31mValueError\u001b[0m: Format specifier missing precision"
          ]
        },
        {
          "data": {
            "image/png": "[encoded data removed]",
            "text/plain": [
              "<Figure size 1000x1000 with 2 Axes>"
            ]
          },
          "metadata": {},
          "output_type": "display_data"
        }
      ],
      "source": [
        "# Affichage de la matrice de confusion\n",
        "\n",
        "plt.figure(figsize=(10, 10))\n",
        "sns.heatmap(cm_kppv, annot=True, linewidths=.5, square=True, cmap='Blues_r')\n",
        "plt.ylabel('Actual label')\n",
        "plt.xlabel('Predicted label')\n",
        "all_sample_title = 'Accuracy Score: {0}'.format(accuracy_kppv)\n",
        "plt.title(all_sample_title, size=15)\n",
        "plt.show()"
      ]
    },
    {
      "cell_type": "markdown",
      "id": "4bc76f3c",
      "metadata": {
        "id": "4bc76f3c"
      },
      "source": [
        "## Méthode non supervisée\n",
        "Indiquer quelle est la méthode non supervisée de votre choix et calculer la matrice de confusion associée (confusion_matrix) et le score de performance (accuracy_score)"
      ]
    },
    {
      "cell_type": "code",
      "execution_count": null,
      "id": "90b34754",
      "metadata": {
        "id": "90b34754"
      },
      "outputs": [],
      "source": []
    },
    {
      "cell_type": "code",
      "execution_count": null,
      "id": "38fc9383",
      "metadata": {
        "id": "38fc9383"
      },
      "outputs": [],
      "source": []
    },
    {
      "cell_type": "markdown",
      "id": "baef6651",
      "metadata": {
        "id": "baef6651"
      },
      "source": [
        "# Partie II : Classification des sons beatbox avec prétraitement\n",
        "\n",
        "\n",
        "## Méthode supervisée avec réduction de dimension par ACP sur l'ensemble d'apprentissage\n",
        "Réaliser une ACP sur l'ensemble d'apprentissage pour réduire la dimension, visualiser les données\n",
        "puis projeter les données de l'ensemble de test dans la base de l'ACP.\n",
        "\n",
        "Indiquer quelle est la méthode supervisée de votre choix et calculer la matrice de confusion associée (confusion_matrix) et le score de performance (accuracy_score)"
      ]
    },
    {
      "cell_type": "code",
      "execution_count": null,
      "id": "3cbf2dd5",
      "metadata": {
        "id": "3cbf2dd5"
      },
      "outputs": [],
      "source": [
        "from sklearn.decomposition import PCA"
      ]
    },
    {
      "cell_type": "code",
      "execution_count": null,
      "id": "d246c2d7",
      "metadata": {
        "id": "d246c2d7"
      },
      "outputs": [],
      "source": []
    },
    {
      "cell_type": "markdown",
      "id": "22b57d75",
      "metadata": {
        "id": "22b57d75"
      },
      "source": [
        "\n",
        "## Méthode non supervisée avec réduction de dimension par ACP sur l'ensemble des données\n",
        "\n",
        "Réaliser une ACP sur l'ensemble des données et indiquer quelle est la méthode supervisée de votre choix et calculer la matrice de confusion associée (confusion_matrix) et le score de performance (accuracy_score)"
      ]
    },
    {
      "cell_type": "code",
      "execution_count": null,
      "id": "e78ff2df",
      "metadata": {
        "id": "e78ff2df"
      },
      "outputs": [],
      "source": []
    },
    {
      "cell_type": "code",
      "execution_count": null,
      "id": "7763d8d4",
      "metadata": {
        "id": "7763d8d4"
      },
      "outputs": [],
      "source": []
    },
    {
      "cell_type": "code",
      "execution_count": null,
      "id": "3d80aa36",
      "metadata": {
        "id": "3d80aa36"
      },
      "outputs": [],
      "source": []
    },
    {
      "cell_type": "markdown",
      "id": "9a91a3f3",
      "metadata": {
        "id": "9a91a3f3"
      },
      "source": [
        "# Partie III : Votre analyse\n",
        "\n",
        "\n",
        "Pour chaque résultat obtenu, calculer la matrice de confusion et utiliser l'article et les signaux présentés ci-dessus pour interpréter les résultats.\n",
        "\n",
        "Un rapport de maximum 10 pages sera à rendre avec le notebook des codes ayant donné ces résultats."
      ]
    },
    {
      "cell_type": "code",
      "execution_count": null,
      "id": "0bcb51e3",
      "metadata": {
        "id": "0bcb51e3"
      },
      "outputs": [],
      "source": []
    }
  ],
  "metadata": {
    "colab": {
      "include_colab_link": true,
      "provenance": []
    },
    "kernelspec": {
      "display_name": "Python 3 (ipykernel)",
      "language": "python",
      "name": "python3"
    },
    "language_info": {
      "codemirror_mode": {
        "name": "ipython",
        "version": 3
      },
      "file_extension": ".py",
      "mimetype": "text/x-python",
      "name": "python",
      "nbconvert_exporter": "python",
      "pygments_lexer": "ipython3",
      "version": "3.10.2"
    }
  },
  "nbformat": 4,
  "nbformat_minor": 5
}
